{
  "nbformat": 4,
  "nbformat_minor": 0,
  "metadata": {
    "colab": {
      "provenance": [],
      "authorship_tag": "ABX9TyP2o3OqKdnWiyn8kPL1v11x",
      "include_colab_link": true
    },
    "kernelspec": {
      "name": "python3",
      "display_name": "Python 3"
    },
    "language_info": {
      "name": "python"
    }
  },
  "cells": [
    {
      "cell_type": "markdown",
      "metadata": {
        "id": "view-in-github",
        "colab_type": "text"
      },
      "source": [
        "<a href=\"https://colab.research.google.com/github/Dinda-04/Rakamin_KF_Analytics/blob/main/Untitled1.ipynb\" target=\"_parent\"><img src=\"https://colab.research.google.com/assets/colab-badge.svg\" alt=\"Open In Colab\"/></a>"
      ]
    },
    {
      "cell_type": "code",
      "execution_count": null,
      "metadata": {
        "id": "s6h8hn82AYMK"
      },
      "outputs": [],
      "source": [
        "CREATE OR REPLACE TABLE `rakamin-kf-analytics-448814.kimia_farma.kf_ Dasboard 1` AS\n",
        "WITH transaksi_cte AS (\n",
        "    SELECT\n",
        "        t.transaction_id,\n",
        "        t.product_id,\n",
        "        t.branch_id,\n",
        "        COUNT(DISTINCT t.transaction_id) AS total_transactions,  -- Menghitung jumlah transaksi per cabang\n",
        "        t.price AS actual_price,  -- Menggunakan price sebagai actual_price\n",
        "        t.price * (1 - (t.discount_percentage / 100)) AS nett_sales,  -- Nett Sales setelah diskon\n",
        "        -- Menghitung persentase laba berdasarkan harga\n",
        "        CASE\n",
        "            WHEN t.price <= 50000 THEN 0.10\n",
        "            WHEN t.price > 50000 AND t.price <= 100000 THEN 0.15\n",
        "            WHEN t.price > 100000 AND t.price <= 300000 THEN 0.20\n",
        "            WHEN t.price > 300000 AND t.price <= 500000 THEN 0.25\n",
        "            ELSE 0.30\n",
        "        END AS persentase_gross_laba,\n",
        "        -- Menghitung nett_profit berdasarkan persentase gross laba dan harga\n",
        "        (t.price * (1 - (t.discount_percentage / 100)) *\n",
        "            CASE\n",
        "                WHEN t.price <= 50000 THEN 0.10\n",
        "                WHEN t.price > 50000 AND t.price <= 100000 THEN 0.15\n",
        "                WHEN t.price > 100000 AND t.price <= 300000 THEN 0.20\n",
        "                WHEN t.price > 300000 AND t.price <= 500000 THEN 0.25\n",
        "                ELSE 0.30\n",
        "            END) AS nett_profit,\n",
        "        t.date,   -- Pastikan nama kolomnya sesuai\n",
        "        t.customer_name,\n",
        "        t.discount_percentage,  -- Menambahkan diskon ke CTE\n",
        "        EXTRACT(YEAR FROM t.date) AS transaction_year  -- Mengambil tahun dari tanggal transaksi\n",
        "    FROM `rakamin-kf-analytics-448814.kimia_farma.kf_final_transaction` t\n",
        "    WHERE EXTRACT(YEAR FROM t.date) BETWEEN 2020 AND 2023  -- Memfilter transaksi antara tahun 2020-2023\n",
        "    GROUP BY t.branch_id, t.product_id, t.transaction_id, t.price, t.discount_percentage, t.date, t.customer_name\n",
        ")\n",
        "SELECT\n",
        "    t.transaction_id,  -- ID transaksi\n",
        "    t.date,  -- Tanggal transaksi\n",
        "    t.branch_id,  -- ID cabang\n",
        "    c.branch_name,  -- Nama cabang\n",
        "    c.kota,  -- Kota cabang\n",
        "    c.provinsi,  -- Provinsi cabang\n",
        "    c.rating AS rating_transaction,  -- Rating cabang\n",
        "    t.product_id,  -- ID produk\n",
        "    p.product_name,  -- Nama produk\n",
        "    t.actual_price,  -- Harga obat\n",
        "    t.discount_percentage,  -- Persentase diskon\n",
        "    t.persentase_gross_laba * 100 AS persentase_gross_laba_pct,  -- Persentase gross laba\n",
        "    t.nett_sales,  -- Nett sales setelah diskon\n",
        "    t.nett_profit,  -- Nett profit\n",
        "    t.total_transactions,  -- Jumlah transaksi per cabang\n",
        "    -- Menambahkan total profit dan total sales per tahun 2020-2023\n",
        "    SUM(t.nett_profit) OVER (PARTITION BY t.branch_id, t.product_id) AS total_profit,  -- Total profit per cabang dan produk\n",
        "    SUM(t.nett_sales) OVER (PARTITION BY t.branch_id, t.product_id) AS total_sales  -- Total sales per cabang dan produk\n",
        "FROM transaksi_cte t\n",
        "JOIN `rakamin-kf-analytics-448814.kimia_farma.kf_kantor_cabang` c\n",
        "    ON t.branch_id = c.branch_id  -- Menggabungkan dengan tabel cabang\n",
        "JOIN `rakamin-kf-analytics-448814.kimia_farma.kf_product` p\n",
        "    ON t.product_id = p.product_id  -- Menggabungkan dengan tabel produk;\n",
        "\n"
      ]
    }
  ]
}